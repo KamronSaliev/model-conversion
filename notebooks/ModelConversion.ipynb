{
 "cells": [
  {
   "cell_type": "code",
   "execution_count": 8,
   "id": "initial_id",
   "metadata": {
    "collapsed": true,
    "ExecuteTime": {
     "end_time": "2023-12-06T17:42:41.395024Z",
     "start_time": "2023-12-06T17:42:41.392533Z"
    }
   },
   "outputs": [
    {
     "name": "stdout",
     "output_type": "stream",
     "text": [
      "1.14.1\n",
      "1.15.1\n"
     ]
    }
   ],
   "source": [
    "import tensorflow as tf\n",
    "import onnx\n",
    "import tf2onnx\n",
    "\n",
    "print(onnx.__version__)\n",
    "print(tf2onnx.__version__)"
   ]
  },
  {
   "cell_type": "code",
   "execution_count": 9,
   "outputs": [],
   "source": [
    "keras_model = tf.keras.models.load_model('../models/Model.h5')"
   ],
   "metadata": {
    "collapsed": false,
    "ExecuteTime": {
     "end_time": "2023-12-06T17:42:41.451538Z",
     "start_time": "2023-12-06T17:42:41.396791Z"
    }
   },
   "id": "c6ccc20aa74b3b"
  },
  {
   "cell_type": "code",
   "execution_count": 10,
   "outputs": [],
   "source": [
    "onnx_model, _ = tf2onnx.convert.from_keras(keras_model)"
   ],
   "metadata": {
    "collapsed": false,
    "ExecuteTime": {
     "end_time": "2023-12-06T17:42:41.748989Z",
     "start_time": "2023-12-06T17:42:41.453006Z"
    }
   },
   "id": "7151687d3e4590a9"
  },
  {
   "cell_type": "code",
   "execution_count": 11,
   "outputs": [],
   "source": [
    "onnx.save_model(onnx_model, '../models/Model.onnx')"
   ],
   "metadata": {
    "collapsed": false,
    "ExecuteTime": {
     "end_time": "2023-12-06T17:42:41.754771Z",
     "start_time": "2023-12-06T17:42:41.748936Z"
    }
   },
   "id": "1c22ba4d860977d9"
  }
 ],
 "metadata": {
  "kernelspec": {
   "display_name": "Python 3",
   "language": "python",
   "name": "python3"
  },
  "language_info": {
   "codemirror_mode": {
    "name": "ipython",
    "version": 2
   },
   "file_extension": ".py",
   "mimetype": "text/x-python",
   "name": "python",
   "nbconvert_exporter": "python",
   "pygments_lexer": "ipython2",
   "version": "2.7.6"
  }
 },
 "nbformat": 4,
 "nbformat_minor": 5
}
